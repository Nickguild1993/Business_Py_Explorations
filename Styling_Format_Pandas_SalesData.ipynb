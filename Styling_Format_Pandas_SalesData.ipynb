{
  "nbformat": 4,
  "nbformat_minor": 0,
  "metadata": {
    "colab": {
      "name": "Styling_Format_Pandas_SalesData.ipynb",
      "provenance": [],
      "collapsed_sections": [],
      "authorship_tag": "ABX9TyOvDadWyWqKBXiAMKRLzVeS",
      "include_colab_link": true
    },
    "kernelspec": {
      "name": "python3",
      "display_name": "Python 3"
    },
    "language_info": {
      "name": "python"
    }
  },
  "cells": [
    {
      "cell_type": "markdown",
      "metadata": {
        "id": "view-in-github",
        "colab_type": "text"
      },
      "source": [
        "<a href=\"https://colab.research.google.com/github/Nickguild1993/Business_Py_Explorations/blob/main/Styling_Format_Pandas_SalesData.ipynb\" target=\"_parent\"><img src=\"https://colab.research.google.com/assets/colab-badge.svg\" alt=\"Open In Colab\"/></a>"
      ]
    },
    {
      "cell_type": "markdown",
      "source": [
        "Using the sales total dataset, working on styling in pandas - formatting strings and doing conditional formatting"
      ],
      "metadata": {
        "id": "fQPDqmA8JY0k"
      }
    },
    {
      "cell_type": "code",
      "execution_count": 1,
      "metadata": {
        "id": "_HijZFfyI0uS"
      },
      "outputs": [],
      "source": [
        "# import dependencies\n",
        "\n",
        "import pandas as pd\n",
        "import numpy as np\n",
        "from scipy import stats\n",
        "from random import random\n",
        "from datetime import datetime as dt\n",
        "import datetime"
      ]
    },
    {
      "cell_type": "code",
      "source": [
        "# get the data via raw url\n",
        "\n",
        "url = \"https://raw.githubusercontent.com/Nickguild1993/Business_Py_Explorations/main/2018_Sales_Total.csv\"\n",
        "\n",
        "df = pd.read_csv(\"https://raw.githubusercontent.com/Nickguild1993/Business_Py_Explorations/main/2018_Sales_Total.csv\")\n",
        "\n",
        "df.head(3)"
      ],
      "metadata": {
        "colab": {
          "base_uri": "https://localhost:8080/",
          "height": 143
        },
        "id": "WMnGH_iXJpOI",
        "outputId": "6cdaa6b1-ae53-466f-b517-1d970115e4cd"
      },
      "execution_count": 2,
      "outputs": [
        {
          "output_type": "execute_result",
          "data": {
            "text/plain": [
              "   account number             name       sku  quantity  unit price  ext price  \\\n",
              "0          740150       Barton LLC  B1-20000        39       86.69    3380.91   \n",
              "1          714466  Trantow-Barrows  S2-77896        -1       63.16     -63.16   \n",
              "2          218895        Kulas Inc  B1-69924        23       90.70    2086.10   \n",
              "\n",
              "                  date  \n",
              "0  2018-01-01 07:21:51  \n",
              "1  2018-01-01 10:00:47  \n",
              "2  2018-01-01 13:24:58  "
            ],
            "text/html": [
              "\n",
              "  <div id=\"df-c69aa634-0637-4ebf-ae3b-d00f8ff0949e\">\n",
              "    <div class=\"colab-df-container\">\n",
              "      <div>\n",
              "<style scoped>\n",
              "    .dataframe tbody tr th:only-of-type {\n",
              "        vertical-align: middle;\n",
              "    }\n",
              "\n",
              "    .dataframe tbody tr th {\n",
              "        vertical-align: top;\n",
              "    }\n",
              "\n",
              "    .dataframe thead th {\n",
              "        text-align: right;\n",
              "    }\n",
              "</style>\n",
              "<table border=\"1\" class=\"dataframe\">\n",
              "  <thead>\n",
              "    <tr style=\"text-align: right;\">\n",
              "      <th></th>\n",
              "      <th>account number</th>\n",
              "      <th>name</th>\n",
              "      <th>sku</th>\n",
              "      <th>quantity</th>\n",
              "      <th>unit price</th>\n",
              "      <th>ext price</th>\n",
              "      <th>date</th>\n",
              "    </tr>\n",
              "  </thead>\n",
              "  <tbody>\n",
              "    <tr>\n",
              "      <th>0</th>\n",
              "      <td>740150</td>\n",
              "      <td>Barton LLC</td>\n",
              "      <td>B1-20000</td>\n",
              "      <td>39</td>\n",
              "      <td>86.69</td>\n",
              "      <td>3380.91</td>\n",
              "      <td>2018-01-01 07:21:51</td>\n",
              "    </tr>\n",
              "    <tr>\n",
              "      <th>1</th>\n",
              "      <td>714466</td>\n",
              "      <td>Trantow-Barrows</td>\n",
              "      <td>S2-77896</td>\n",
              "      <td>-1</td>\n",
              "      <td>63.16</td>\n",
              "      <td>-63.16</td>\n",
              "      <td>2018-01-01 10:00:47</td>\n",
              "    </tr>\n",
              "    <tr>\n",
              "      <th>2</th>\n",
              "      <td>218895</td>\n",
              "      <td>Kulas Inc</td>\n",
              "      <td>B1-69924</td>\n",
              "      <td>23</td>\n",
              "      <td>90.70</td>\n",
              "      <td>2086.10</td>\n",
              "      <td>2018-01-01 13:24:58</td>\n",
              "    </tr>\n",
              "  </tbody>\n",
              "</table>\n",
              "</div>\n",
              "      <button class=\"colab-df-convert\" onclick=\"convertToInteractive('df-c69aa634-0637-4ebf-ae3b-d00f8ff0949e')\"\n",
              "              title=\"Convert this dataframe to an interactive table.\"\n",
              "              style=\"display:none;\">\n",
              "        \n",
              "  <svg xmlns=\"http://www.w3.org/2000/svg\" height=\"24px\"viewBox=\"0 0 24 24\"\n",
              "       width=\"24px\">\n",
              "    <path d=\"M0 0h24v24H0V0z\" fill=\"none\"/>\n",
              "    <path d=\"M18.56 5.44l.94 2.06.94-2.06 2.06-.94-2.06-.94-.94-2.06-.94 2.06-2.06.94zm-11 1L8.5 8.5l.94-2.06 2.06-.94-2.06-.94L8.5 2.5l-.94 2.06-2.06.94zm10 10l.94 2.06.94-2.06 2.06-.94-2.06-.94-.94-2.06-.94 2.06-2.06.94z\"/><path d=\"M17.41 7.96l-1.37-1.37c-.4-.4-.92-.59-1.43-.59-.52 0-1.04.2-1.43.59L10.3 9.45l-7.72 7.72c-.78.78-.78 2.05 0 2.83L4 21.41c.39.39.9.59 1.41.59.51 0 1.02-.2 1.41-.59l7.78-7.78 2.81-2.81c.8-.78.8-2.07 0-2.86zM5.41 20L4 18.59l7.72-7.72 1.47 1.35L5.41 20z\"/>\n",
              "  </svg>\n",
              "      </button>\n",
              "      \n",
              "  <style>\n",
              "    .colab-df-container {\n",
              "      display:flex;\n",
              "      flex-wrap:wrap;\n",
              "      gap: 12px;\n",
              "    }\n",
              "\n",
              "    .colab-df-convert {\n",
              "      background-color: #E8F0FE;\n",
              "      border: none;\n",
              "      border-radius: 50%;\n",
              "      cursor: pointer;\n",
              "      display: none;\n",
              "      fill: #1967D2;\n",
              "      height: 32px;\n",
              "      padding: 0 0 0 0;\n",
              "      width: 32px;\n",
              "    }\n",
              "\n",
              "    .colab-df-convert:hover {\n",
              "      background-color: #E2EBFA;\n",
              "      box-shadow: 0px 1px 2px rgba(60, 64, 67, 0.3), 0px 1px 3px 1px rgba(60, 64, 67, 0.15);\n",
              "      fill: #174EA6;\n",
              "    }\n",
              "\n",
              "    [theme=dark] .colab-df-convert {\n",
              "      background-color: #3B4455;\n",
              "      fill: #D2E3FC;\n",
              "    }\n",
              "\n",
              "    [theme=dark] .colab-df-convert:hover {\n",
              "      background-color: #434B5C;\n",
              "      box-shadow: 0px 1px 3px 1px rgba(0, 0, 0, 0.15);\n",
              "      filter: drop-shadow(0px 1px 2px rgba(0, 0, 0, 0.3));\n",
              "      fill: #FFFFFF;\n",
              "    }\n",
              "  </style>\n",
              "\n",
              "      <script>\n",
              "        const buttonEl =\n",
              "          document.querySelector('#df-c69aa634-0637-4ebf-ae3b-d00f8ff0949e button.colab-df-convert');\n",
              "        buttonEl.style.display =\n",
              "          google.colab.kernel.accessAllowed ? 'block' : 'none';\n",
              "\n",
              "        async function convertToInteractive(key) {\n",
              "          const element = document.querySelector('#df-c69aa634-0637-4ebf-ae3b-d00f8ff0949e');\n",
              "          const dataTable =\n",
              "            await google.colab.kernel.invokeFunction('convertToInteractive',\n",
              "                                                     [key], {});\n",
              "          if (!dataTable) return;\n",
              "\n",
              "          const docLinkHtml = 'Like what you see? Visit the ' +\n",
              "            '<a target=\"_blank\" href=https://colab.research.google.com/notebooks/data_table.ipynb>data table notebook</a>'\n",
              "            + ' to learn more about interactive tables.';\n",
              "          element.innerHTML = '';\n",
              "          dataTable['output_type'] = 'display_data';\n",
              "          await google.colab.output.renderOutput(dataTable, element);\n",
              "          const docLink = document.createElement('div');\n",
              "          docLink.innerHTML = docLinkHtml;\n",
              "          element.appendChild(docLink);\n",
              "        }\n",
              "      </script>\n",
              "    </div>\n",
              "  </div>\n",
              "  "
            ]
          },
          "metadata": {},
          "execution_count": 2
        }
      ]
    },
    {
      "cell_type": "markdown",
      "source": [
        "Quick summary of how much customers have purchased from us and their average purchase amount looks like"
      ],
      "metadata": {
        "id": "aHNrPz-yJzIl"
      }
    },
    {
      "cell_type": "code",
      "source": [
        "df.groupby(\"name\")[\"ext price\"].agg([\"mean\", \"sum\"]).round(2)[:5]"
      ],
      "metadata": {
        "colab": {
          "base_uri": "https://localhost:8080/",
          "height": 237
        },
        "id": "Q7qWelXFJ3hN",
        "outputId": "26ba38e6-ca71-4ae4-9c99-3cc59357eb32"
      },
      "execution_count": 3,
      "outputs": [
        {
          "output_type": "execute_result",
          "data": {
            "text/plain": [
              "                                    mean        sum\n",
              "name                                               \n",
              "Barton LLC                       1334.62  109438.50\n",
              "Cronin, Oberbrunner and Spencer  1339.32   89734.55\n",
              "Frami, Hills and Schmidt         1438.47  103569.59\n",
              "Fritsch, Russel and Anderson     1385.37  112214.71\n",
              "Halvorson, Crona and Champlin    1206.97   70004.36"
            ],
            "text/html": [
              "\n",
              "  <div id=\"df-bbef86b1-1b7e-451a-ac65-9de13d9568da\">\n",
              "    <div class=\"colab-df-container\">\n",
              "      <div>\n",
              "<style scoped>\n",
              "    .dataframe tbody tr th:only-of-type {\n",
              "        vertical-align: middle;\n",
              "    }\n",
              "\n",
              "    .dataframe tbody tr th {\n",
              "        vertical-align: top;\n",
              "    }\n",
              "\n",
              "    .dataframe thead th {\n",
              "        text-align: right;\n",
              "    }\n",
              "</style>\n",
              "<table border=\"1\" class=\"dataframe\">\n",
              "  <thead>\n",
              "    <tr style=\"text-align: right;\">\n",
              "      <th></th>\n",
              "      <th>mean</th>\n",
              "      <th>sum</th>\n",
              "    </tr>\n",
              "    <tr>\n",
              "      <th>name</th>\n",
              "      <th></th>\n",
              "      <th></th>\n",
              "    </tr>\n",
              "  </thead>\n",
              "  <tbody>\n",
              "    <tr>\n",
              "      <th>Barton LLC</th>\n",
              "      <td>1334.62</td>\n",
              "      <td>109438.50</td>\n",
              "    </tr>\n",
              "    <tr>\n",
              "      <th>Cronin, Oberbrunner and Spencer</th>\n",
              "      <td>1339.32</td>\n",
              "      <td>89734.55</td>\n",
              "    </tr>\n",
              "    <tr>\n",
              "      <th>Frami, Hills and Schmidt</th>\n",
              "      <td>1438.47</td>\n",
              "      <td>103569.59</td>\n",
              "    </tr>\n",
              "    <tr>\n",
              "      <th>Fritsch, Russel and Anderson</th>\n",
              "      <td>1385.37</td>\n",
              "      <td>112214.71</td>\n",
              "    </tr>\n",
              "    <tr>\n",
              "      <th>Halvorson, Crona and Champlin</th>\n",
              "      <td>1206.97</td>\n",
              "      <td>70004.36</td>\n",
              "    </tr>\n",
              "  </tbody>\n",
              "</table>\n",
              "</div>\n",
              "      <button class=\"colab-df-convert\" onclick=\"convertToInteractive('df-bbef86b1-1b7e-451a-ac65-9de13d9568da')\"\n",
              "              title=\"Convert this dataframe to an interactive table.\"\n",
              "              style=\"display:none;\">\n",
              "        \n",
              "  <svg xmlns=\"http://www.w3.org/2000/svg\" height=\"24px\"viewBox=\"0 0 24 24\"\n",
              "       width=\"24px\">\n",
              "    <path d=\"M0 0h24v24H0V0z\" fill=\"none\"/>\n",
              "    <path d=\"M18.56 5.44l.94 2.06.94-2.06 2.06-.94-2.06-.94-.94-2.06-.94 2.06-2.06.94zm-11 1L8.5 8.5l.94-2.06 2.06-.94-2.06-.94L8.5 2.5l-.94 2.06-2.06.94zm10 10l.94 2.06.94-2.06 2.06-.94-2.06-.94-.94-2.06-.94 2.06-2.06.94z\"/><path d=\"M17.41 7.96l-1.37-1.37c-.4-.4-.92-.59-1.43-.59-.52 0-1.04.2-1.43.59L10.3 9.45l-7.72 7.72c-.78.78-.78 2.05 0 2.83L4 21.41c.39.39.9.59 1.41.59.51 0 1.02-.2 1.41-.59l7.78-7.78 2.81-2.81c.8-.78.8-2.07 0-2.86zM5.41 20L4 18.59l7.72-7.72 1.47 1.35L5.41 20z\"/>\n",
              "  </svg>\n",
              "      </button>\n",
              "      \n",
              "  <style>\n",
              "    .colab-df-container {\n",
              "      display:flex;\n",
              "      flex-wrap:wrap;\n",
              "      gap: 12px;\n",
              "    }\n",
              "\n",
              "    .colab-df-convert {\n",
              "      background-color: #E8F0FE;\n",
              "      border: none;\n",
              "      border-radius: 50%;\n",
              "      cursor: pointer;\n",
              "      display: none;\n",
              "      fill: #1967D2;\n",
              "      height: 32px;\n",
              "      padding: 0 0 0 0;\n",
              "      width: 32px;\n",
              "    }\n",
              "\n",
              "    .colab-df-convert:hover {\n",
              "      background-color: #E2EBFA;\n",
              "      box-shadow: 0px 1px 2px rgba(60, 64, 67, 0.3), 0px 1px 3px 1px rgba(60, 64, 67, 0.15);\n",
              "      fill: #174EA6;\n",
              "    }\n",
              "\n",
              "    [theme=dark] .colab-df-convert {\n",
              "      background-color: #3B4455;\n",
              "      fill: #D2E3FC;\n",
              "    }\n",
              "\n",
              "    [theme=dark] .colab-df-convert:hover {\n",
              "      background-color: #434B5C;\n",
              "      box-shadow: 0px 1px 3px 1px rgba(0, 0, 0, 0.15);\n",
              "      filter: drop-shadow(0px 1px 2px rgba(0, 0, 0, 0.3));\n",
              "      fill: #FFFFFF;\n",
              "    }\n",
              "  </style>\n",
              "\n",
              "      <script>\n",
              "        const buttonEl =\n",
              "          document.querySelector('#df-bbef86b1-1b7e-451a-ac65-9de13d9568da button.colab-df-convert');\n",
              "        buttonEl.style.display =\n",
              "          google.colab.kernel.accessAllowed ? 'block' : 'none';\n",
              "\n",
              "        async function convertToInteractive(key) {\n",
              "          const element = document.querySelector('#df-bbef86b1-1b7e-451a-ac65-9de13d9568da');\n",
              "          const dataTable =\n",
              "            await google.colab.kernel.invokeFunction('convertToInteractive',\n",
              "                                                     [key], {});\n",
              "          if (!dataTable) return;\n",
              "\n",
              "          const docLinkHtml = 'Like what you see? Visit the ' +\n",
              "            '<a target=\"_blank\" href=https://colab.research.google.com/notebooks/data_table.ipynb>data table notebook</a>'\n",
              "            + ' to learn more about interactive tables.';\n",
              "          element.innerHTML = '';\n",
              "          dataTable['output_type'] = 'display_data';\n",
              "          await google.colab.output.renderOutput(dataTable, element);\n",
              "          const docLink = document.createElement('div');\n",
              "          docLink.innerHTML = docLinkHtml;\n",
              "          element.appendChild(docLink);\n",
              "        }\n",
              "      </script>\n",
              "    </div>\n",
              "  </div>\n",
              "  "
            ]
          },
          "metadata": {},
          "execution_count": 3
        }
      ]
    },
    {
      "cell_type": "markdown",
      "source": [
        "Messy looking - difficult to discern with all the decimals and lack of formatting.  Da fix - style.format"
      ],
      "metadata": {
        "id": "NGF5_4wUKSYR"
      }
    },
    {
      "cell_type": "code",
      "source": [
        "(df.groupby(\"name\")[\"ext price\"]\n",
        " .agg([\"mean\", \"sum\"])[:5]\n",
        " .style.format('${0:,.2f}'))"
      ],
      "metadata": {
        "colab": {
          "base_uri": "https://localhost:8080/",
          "height": 237
        },
        "id": "xbf7Uac9LOr-",
        "outputId": "f810f8b4-25f0-4cfd-9fe8-defc0431b344"
      },
      "execution_count": 4,
      "outputs": [
        {
          "output_type": "execute_result",
          "data": {
            "text/plain": [
              "<pandas.io.formats.style.Styler at 0x7f73ddfc8e10>"
            ],
            "text/html": [
              "<style type=\"text/css\">\n",
              "</style>\n",
              "<table id=\"T_d2c74_\" class=\"dataframe\">\n",
              "  <thead>\n",
              "    <tr>\n",
              "      <th class=\"blank level0\" >&nbsp;</th>\n",
              "      <th class=\"col_heading level0 col0\" >mean</th>\n",
              "      <th class=\"col_heading level0 col1\" >sum</th>\n",
              "    </tr>\n",
              "    <tr>\n",
              "      <th class=\"index_name level0\" >name</th>\n",
              "      <th class=\"blank col0\" >&nbsp;</th>\n",
              "      <th class=\"blank col1\" >&nbsp;</th>\n",
              "    </tr>\n",
              "  </thead>\n",
              "  <tbody>\n",
              "    <tr>\n",
              "      <th id=\"T_d2c74_level0_row0\" class=\"row_heading level0 row0\" >Barton LLC</th>\n",
              "      <td id=\"T_d2c74_row0_col0\" class=\"data row0 col0\" >$1,334.62</td>\n",
              "      <td id=\"T_d2c74_row0_col1\" class=\"data row0 col1\" >$109,438.50</td>\n",
              "    </tr>\n",
              "    <tr>\n",
              "      <th id=\"T_d2c74_level0_row1\" class=\"row_heading level0 row1\" >Cronin, Oberbrunner and Spencer</th>\n",
              "      <td id=\"T_d2c74_row1_col0\" class=\"data row1 col0\" >$1,339.32</td>\n",
              "      <td id=\"T_d2c74_row1_col1\" class=\"data row1 col1\" >$89,734.55</td>\n",
              "    </tr>\n",
              "    <tr>\n",
              "      <th id=\"T_d2c74_level0_row2\" class=\"row_heading level0 row2\" >Frami, Hills and Schmidt</th>\n",
              "      <td id=\"T_d2c74_row2_col0\" class=\"data row2 col0\" >$1,438.47</td>\n",
              "      <td id=\"T_d2c74_row2_col1\" class=\"data row2 col1\" >$103,569.59</td>\n",
              "    </tr>\n",
              "    <tr>\n",
              "      <th id=\"T_d2c74_level0_row3\" class=\"row_heading level0 row3\" >Fritsch, Russel and Anderson</th>\n",
              "      <td id=\"T_d2c74_row3_col0\" class=\"data row3 col0\" >$1,385.37</td>\n",
              "      <td id=\"T_d2c74_row3_col1\" class=\"data row3 col1\" >$112,214.71</td>\n",
              "    </tr>\n",
              "    <tr>\n",
              "      <th id=\"T_d2c74_level0_row4\" class=\"row_heading level0 row4\" >Halvorson, Crona and Champlin</th>\n",
              "      <td id=\"T_d2c74_row4_col0\" class=\"data row4 col0\" >$1,206.97</td>\n",
              "      <td id=\"T_d2c74_row4_col1\" class=\"data row4 col1\" >$70,004.36</td>\n",
              "    </tr>\n",
              "  </tbody>\n",
              "</table>\n"
            ]
          },
          "metadata": {},
          "execution_count": 4
        }
      ]
    },
    {
      "cell_type": "markdown",
      "source": [
        "if we wanted to round to zero decimal places, we'd change the format to .style.format('${0:,.0f}')"
      ],
      "metadata": {
        "id": "AGRma_sjJY6V"
      }
    },
    {
      "cell_type": "code",
      "source": [
        "(df.groupby(\"name\")[\"ext price\"]\n",
        " .agg([\"mean\", \"sum\"])[:5]\n",
        " .style.format('${0:,.0f}'))"
      ],
      "metadata": {
        "colab": {
          "base_uri": "https://localhost:8080/",
          "height": 237
        },
        "id": "s2rhGZi_Lpl4",
        "outputId": "db21a5cb-631d-4f63-9d8c-3ff6df058584"
      },
      "execution_count": 5,
      "outputs": [
        {
          "output_type": "execute_result",
          "data": {
            "text/plain": [
              "<pandas.io.formats.style.Styler at 0x7f73dd42b750>"
            ],
            "text/html": [
              "<style type=\"text/css\">\n",
              "</style>\n",
              "<table id=\"T_7609c_\" class=\"dataframe\">\n",
              "  <thead>\n",
              "    <tr>\n",
              "      <th class=\"blank level0\" >&nbsp;</th>\n",
              "      <th class=\"col_heading level0 col0\" >mean</th>\n",
              "      <th class=\"col_heading level0 col1\" >sum</th>\n",
              "    </tr>\n",
              "    <tr>\n",
              "      <th class=\"index_name level0\" >name</th>\n",
              "      <th class=\"blank col0\" >&nbsp;</th>\n",
              "      <th class=\"blank col1\" >&nbsp;</th>\n",
              "    </tr>\n",
              "  </thead>\n",
              "  <tbody>\n",
              "    <tr>\n",
              "      <th id=\"T_7609c_level0_row0\" class=\"row_heading level0 row0\" >Barton LLC</th>\n",
              "      <td id=\"T_7609c_row0_col0\" class=\"data row0 col0\" >$1,335</td>\n",
              "      <td id=\"T_7609c_row0_col1\" class=\"data row0 col1\" >$109,438</td>\n",
              "    </tr>\n",
              "    <tr>\n",
              "      <th id=\"T_7609c_level0_row1\" class=\"row_heading level0 row1\" >Cronin, Oberbrunner and Spencer</th>\n",
              "      <td id=\"T_7609c_row1_col0\" class=\"data row1 col0\" >$1,339</td>\n",
              "      <td id=\"T_7609c_row1_col1\" class=\"data row1 col1\" >$89,735</td>\n",
              "    </tr>\n",
              "    <tr>\n",
              "      <th id=\"T_7609c_level0_row2\" class=\"row_heading level0 row2\" >Frami, Hills and Schmidt</th>\n",
              "      <td id=\"T_7609c_row2_col0\" class=\"data row2 col0\" >$1,438</td>\n",
              "      <td id=\"T_7609c_row2_col1\" class=\"data row2 col1\" >$103,570</td>\n",
              "    </tr>\n",
              "    <tr>\n",
              "      <th id=\"T_7609c_level0_row3\" class=\"row_heading level0 row3\" >Fritsch, Russel and Anderson</th>\n",
              "      <td id=\"T_7609c_row3_col0\" class=\"data row3 col0\" >$1,385</td>\n",
              "      <td id=\"T_7609c_row3_col1\" class=\"data row3 col1\" >$112,215</td>\n",
              "    </tr>\n",
              "    <tr>\n",
              "      <th id=\"T_7609c_level0_row4\" class=\"row_heading level0 row4\" >Halvorson, Crona and Champlin</th>\n",
              "      <td id=\"T_7609c_row4_col0\" class=\"data row4 col0\" >$1,207</td>\n",
              "      <td id=\"T_7609c_row4_col1\" class=\"data row4 col1\" >$70,004</td>\n",
              "    </tr>\n",
              "  </tbody>\n",
              "</table>\n"
            ]
          },
          "metadata": {},
          "execution_count": 5
        }
      ]
    },
    {
      "cell_type": "markdown",
      "source": [
        "refer to https://mkaz.blog/code/python-string-format-cookbook/ "
      ],
      "metadata": {
        "id": "PyLn8RABJY8r"
      }
    },
    {
      "cell_type": "markdown",
      "source": [
        "#### More advanced - use **GROUPER** to summarize by month and also calculate how much each month is a percentage of the total annual sales"
      ],
      "metadata": {
        "id": "WDV8XhwRMkMk"
      }
    },
    {
      "cell_type": "code",
      "source": [
        "df.dtypes"
      ],
      "metadata": {
        "colab": {
          "base_uri": "https://localhost:8080/"
        },
        "id": "n5KkopppNgzD",
        "outputId": "99e8734d-ab11-41d1-e969-ccc06c6bf51a"
      },
      "execution_count": 6,
      "outputs": [
        {
          "output_type": "execute_result",
          "data": {
            "text/plain": [
              "account number      int64\n",
              "name               object\n",
              "sku                object\n",
              "quantity            int64\n",
              "unit price        float64\n",
              "ext price         float64\n",
              "date               object\n",
              "dtype: object"
            ]
          },
          "metadata": {},
          "execution_count": 6
        }
      ]
    },
    {
      "cell_type": "code",
      "source": [
        "df[\"date\"] = pd.to_datetime(df[\"date\"])"
      ],
      "metadata": {
        "id": "vjLqduuGNruQ"
      },
      "execution_count": 7,
      "outputs": []
    },
    {
      "cell_type": "code",
      "source": [
        "monthly_sales = df.groupby([pd.Grouper(key = \"date\", freq=\"M\")])[\"ext price\"].agg([\"sum\"]).reset_index()\n",
        "\n",
        "monthly_sales[\"pct_of_total\"] = monthly_sales[\"sum\"] / df[\"ext price\"].sum()"
      ],
      "metadata": {
        "id": "yJNuY_TUMsSJ"
      },
      "execution_count": 8,
      "outputs": []
    },
    {
      "cell_type": "code",
      "source": [
        "monthly_sales"
      ],
      "metadata": {
        "colab": {
          "base_uri": "https://localhost:8080/",
          "height": 425
        },
        "id": "VmLJKit4Mfvs",
        "outputId": "0f0a68bc-ca69-4f46-cf68-15fd8e3a7c52"
      },
      "execution_count": 9,
      "outputs": [
        {
          "output_type": "execute_result",
          "data": {
            "text/plain": [
              "         date        sum  pct_of_total\n",
              "0  2018-01-31  185361.66      0.091818\n",
              "1  2018-02-28  146211.62      0.072426\n",
              "2  2018-03-31  203921.38      0.101012\n",
              "3  2018-04-30  174574.11      0.086475\n",
              "4  2018-05-31  165418.55      0.081940\n",
              "5  2018-06-30  174089.33      0.086235\n",
              "6  2018-07-31  191662.11      0.094939\n",
              "7  2018-08-31  153778.59      0.076174\n",
              "8  2018-09-30  168443.17      0.083438\n",
              "9  2018-10-31  171495.32      0.084950\n",
              "10 2018-11-30  119961.22      0.059423\n",
              "11 2018-12-31  163867.26      0.081171"
            ],
            "text/html": [
              "\n",
              "  <div id=\"df-7011925e-5f08-46af-86f6-a5c926adecda\">\n",
              "    <div class=\"colab-df-container\">\n",
              "      <div>\n",
              "<style scoped>\n",
              "    .dataframe tbody tr th:only-of-type {\n",
              "        vertical-align: middle;\n",
              "    }\n",
              "\n",
              "    .dataframe tbody tr th {\n",
              "        vertical-align: top;\n",
              "    }\n",
              "\n",
              "    .dataframe thead th {\n",
              "        text-align: right;\n",
              "    }\n",
              "</style>\n",
              "<table border=\"1\" class=\"dataframe\">\n",
              "  <thead>\n",
              "    <tr style=\"text-align: right;\">\n",
              "      <th></th>\n",
              "      <th>date</th>\n",
              "      <th>sum</th>\n",
              "      <th>pct_of_total</th>\n",
              "    </tr>\n",
              "  </thead>\n",
              "  <tbody>\n",
              "    <tr>\n",
              "      <th>0</th>\n",
              "      <td>2018-01-31</td>\n",
              "      <td>185361.66</td>\n",
              "      <td>0.091818</td>\n",
              "    </tr>\n",
              "    <tr>\n",
              "      <th>1</th>\n",
              "      <td>2018-02-28</td>\n",
              "      <td>146211.62</td>\n",
              "      <td>0.072426</td>\n",
              "    </tr>\n",
              "    <tr>\n",
              "      <th>2</th>\n",
              "      <td>2018-03-31</td>\n",
              "      <td>203921.38</td>\n",
              "      <td>0.101012</td>\n",
              "    </tr>\n",
              "    <tr>\n",
              "      <th>3</th>\n",
              "      <td>2018-04-30</td>\n",
              "      <td>174574.11</td>\n",
              "      <td>0.086475</td>\n",
              "    </tr>\n",
              "    <tr>\n",
              "      <th>4</th>\n",
              "      <td>2018-05-31</td>\n",
              "      <td>165418.55</td>\n",
              "      <td>0.081940</td>\n",
              "    </tr>\n",
              "    <tr>\n",
              "      <th>5</th>\n",
              "      <td>2018-06-30</td>\n",
              "      <td>174089.33</td>\n",
              "      <td>0.086235</td>\n",
              "    </tr>\n",
              "    <tr>\n",
              "      <th>6</th>\n",
              "      <td>2018-07-31</td>\n",
              "      <td>191662.11</td>\n",
              "      <td>0.094939</td>\n",
              "    </tr>\n",
              "    <tr>\n",
              "      <th>7</th>\n",
              "      <td>2018-08-31</td>\n",
              "      <td>153778.59</td>\n",
              "      <td>0.076174</td>\n",
              "    </tr>\n",
              "    <tr>\n",
              "      <th>8</th>\n",
              "      <td>2018-09-30</td>\n",
              "      <td>168443.17</td>\n",
              "      <td>0.083438</td>\n",
              "    </tr>\n",
              "    <tr>\n",
              "      <th>9</th>\n",
              "      <td>2018-10-31</td>\n",
              "      <td>171495.32</td>\n",
              "      <td>0.084950</td>\n",
              "    </tr>\n",
              "    <tr>\n",
              "      <th>10</th>\n",
              "      <td>2018-11-30</td>\n",
              "      <td>119961.22</td>\n",
              "      <td>0.059423</td>\n",
              "    </tr>\n",
              "    <tr>\n",
              "      <th>11</th>\n",
              "      <td>2018-12-31</td>\n",
              "      <td>163867.26</td>\n",
              "      <td>0.081171</td>\n",
              "    </tr>\n",
              "  </tbody>\n",
              "</table>\n",
              "</div>\n",
              "      <button class=\"colab-df-convert\" onclick=\"convertToInteractive('df-7011925e-5f08-46af-86f6-a5c926adecda')\"\n",
              "              title=\"Convert this dataframe to an interactive table.\"\n",
              "              style=\"display:none;\">\n",
              "        \n",
              "  <svg xmlns=\"http://www.w3.org/2000/svg\" height=\"24px\"viewBox=\"0 0 24 24\"\n",
              "       width=\"24px\">\n",
              "    <path d=\"M0 0h24v24H0V0z\" fill=\"none\"/>\n",
              "    <path d=\"M18.56 5.44l.94 2.06.94-2.06 2.06-.94-2.06-.94-.94-2.06-.94 2.06-2.06.94zm-11 1L8.5 8.5l.94-2.06 2.06-.94-2.06-.94L8.5 2.5l-.94 2.06-2.06.94zm10 10l.94 2.06.94-2.06 2.06-.94-2.06-.94-.94-2.06-.94 2.06-2.06.94z\"/><path d=\"M17.41 7.96l-1.37-1.37c-.4-.4-.92-.59-1.43-.59-.52 0-1.04.2-1.43.59L10.3 9.45l-7.72 7.72c-.78.78-.78 2.05 0 2.83L4 21.41c.39.39.9.59 1.41.59.51 0 1.02-.2 1.41-.59l7.78-7.78 2.81-2.81c.8-.78.8-2.07 0-2.86zM5.41 20L4 18.59l7.72-7.72 1.47 1.35L5.41 20z\"/>\n",
              "  </svg>\n",
              "      </button>\n",
              "      \n",
              "  <style>\n",
              "    .colab-df-container {\n",
              "      display:flex;\n",
              "      flex-wrap:wrap;\n",
              "      gap: 12px;\n",
              "    }\n",
              "\n",
              "    .colab-df-convert {\n",
              "      background-color: #E8F0FE;\n",
              "      border: none;\n",
              "      border-radius: 50%;\n",
              "      cursor: pointer;\n",
              "      display: none;\n",
              "      fill: #1967D2;\n",
              "      height: 32px;\n",
              "      padding: 0 0 0 0;\n",
              "      width: 32px;\n",
              "    }\n",
              "\n",
              "    .colab-df-convert:hover {\n",
              "      background-color: #E2EBFA;\n",
              "      box-shadow: 0px 1px 2px rgba(60, 64, 67, 0.3), 0px 1px 3px 1px rgba(60, 64, 67, 0.15);\n",
              "      fill: #174EA6;\n",
              "    }\n",
              "\n",
              "    [theme=dark] .colab-df-convert {\n",
              "      background-color: #3B4455;\n",
              "      fill: #D2E3FC;\n",
              "    }\n",
              "\n",
              "    [theme=dark] .colab-df-convert:hover {\n",
              "      background-color: #434B5C;\n",
              "      box-shadow: 0px 1px 3px 1px rgba(0, 0, 0, 0.15);\n",
              "      filter: drop-shadow(0px 1px 2px rgba(0, 0, 0, 0.3));\n",
              "      fill: #FFFFFF;\n",
              "    }\n",
              "  </style>\n",
              "\n",
              "      <script>\n",
              "        const buttonEl =\n",
              "          document.querySelector('#df-7011925e-5f08-46af-86f6-a5c926adecda button.colab-df-convert');\n",
              "        buttonEl.style.display =\n",
              "          google.colab.kernel.accessAllowed ? 'block' : 'none';\n",
              "\n",
              "        async function convertToInteractive(key) {\n",
              "          const element = document.querySelector('#df-7011925e-5f08-46af-86f6-a5c926adecda');\n",
              "          const dataTable =\n",
              "            await google.colab.kernel.invokeFunction('convertToInteractive',\n",
              "                                                     [key], {});\n",
              "          if (!dataTable) return;\n",
              "\n",
              "          const docLinkHtml = 'Like what you see? Visit the ' +\n",
              "            '<a target=\"_blank\" href=https://colab.research.google.com/notebooks/data_table.ipynb>data table notebook</a>'\n",
              "            + ' to learn more about interactive tables.';\n",
              "          element.innerHTML = '';\n",
              "          dataTable['output_type'] = 'display_data';\n",
              "          await google.colab.output.renderOutput(dataTable, element);\n",
              "          const docLink = document.createElement('div');\n",
              "          docLink.innerHTML = docLinkHtml;\n",
              "          element.appendChild(docLink);\n",
              "        }\n",
              "      </script>\n",
              "    </div>\n",
              "  </div>\n",
              "  "
            ]
          },
          "metadata": {},
          "execution_count": 9
        }
      ]
    },
    {
      "cell_type": "markdown",
      "source": [
        "Using a dictionary to define a unique formatting string for each column!"
      ],
      "metadata": {
        "id": "z_4YdDh-OMVo"
      }
    },
    {
      "cell_type": "code",
      "source": [
        "format_dict = {\"sum\" : '${0:,.2f}', \"date\" : '{:%m-%Y}', \"pct_of_total\" : '{0:.2%}'}\n",
        "\n",
        "monthly_sales.style.format(format_dict).hide_index()"
      ],
      "metadata": {
        "colab": {
          "base_uri": "https://localhost:8080/",
          "height": 425
        },
        "id": "82S7aqz7OVRo",
        "outputId": "a3e0747c-1e65-4dc3-c971-7358e4bb2ed4"
      },
      "execution_count": 10,
      "outputs": [
        {
          "output_type": "execute_result",
          "data": {
            "text/plain": [
              "<pandas.io.formats.style.Styler at 0x7f73dd4276d0>"
            ],
            "text/html": [
              "<style type=\"text/css\">\n",
              "</style>\n",
              "<table id=\"T_65bfe_\" class=\"dataframe\">\n",
              "  <thead>\n",
              "    <tr>\n",
              "      <th class=\"col_heading level0 col0\" >date</th>\n",
              "      <th class=\"col_heading level0 col1\" >sum</th>\n",
              "      <th class=\"col_heading level0 col2\" >pct_of_total</th>\n",
              "    </tr>\n",
              "  </thead>\n",
              "  <tbody>\n",
              "    <tr>\n",
              "      <td id=\"T_65bfe_row0_col0\" class=\"data row0 col0\" >01-2018</td>\n",
              "      <td id=\"T_65bfe_row0_col1\" class=\"data row0 col1\" >$185,361.66</td>\n",
              "      <td id=\"T_65bfe_row0_col2\" class=\"data row0 col2\" >9.18%</td>\n",
              "    </tr>\n",
              "    <tr>\n",
              "      <td id=\"T_65bfe_row1_col0\" class=\"data row1 col0\" >02-2018</td>\n",
              "      <td id=\"T_65bfe_row1_col1\" class=\"data row1 col1\" >$146,211.62</td>\n",
              "      <td id=\"T_65bfe_row1_col2\" class=\"data row1 col2\" >7.24%</td>\n",
              "    </tr>\n",
              "    <tr>\n",
              "      <td id=\"T_65bfe_row2_col0\" class=\"data row2 col0\" >03-2018</td>\n",
              "      <td id=\"T_65bfe_row2_col1\" class=\"data row2 col1\" >$203,921.38</td>\n",
              "      <td id=\"T_65bfe_row2_col2\" class=\"data row2 col2\" >10.10%</td>\n",
              "    </tr>\n",
              "    <tr>\n",
              "      <td id=\"T_65bfe_row3_col0\" class=\"data row3 col0\" >04-2018</td>\n",
              "      <td id=\"T_65bfe_row3_col1\" class=\"data row3 col1\" >$174,574.11</td>\n",
              "      <td id=\"T_65bfe_row3_col2\" class=\"data row3 col2\" >8.65%</td>\n",
              "    </tr>\n",
              "    <tr>\n",
              "      <td id=\"T_65bfe_row4_col0\" class=\"data row4 col0\" >05-2018</td>\n",
              "      <td id=\"T_65bfe_row4_col1\" class=\"data row4 col1\" >$165,418.55</td>\n",
              "      <td id=\"T_65bfe_row4_col2\" class=\"data row4 col2\" >8.19%</td>\n",
              "    </tr>\n",
              "    <tr>\n",
              "      <td id=\"T_65bfe_row5_col0\" class=\"data row5 col0\" >06-2018</td>\n",
              "      <td id=\"T_65bfe_row5_col1\" class=\"data row5 col1\" >$174,089.33</td>\n",
              "      <td id=\"T_65bfe_row5_col2\" class=\"data row5 col2\" >8.62%</td>\n",
              "    </tr>\n",
              "    <tr>\n",
              "      <td id=\"T_65bfe_row6_col0\" class=\"data row6 col0\" >07-2018</td>\n",
              "      <td id=\"T_65bfe_row6_col1\" class=\"data row6 col1\" >$191,662.11</td>\n",
              "      <td id=\"T_65bfe_row6_col2\" class=\"data row6 col2\" >9.49%</td>\n",
              "    </tr>\n",
              "    <tr>\n",
              "      <td id=\"T_65bfe_row7_col0\" class=\"data row7 col0\" >08-2018</td>\n",
              "      <td id=\"T_65bfe_row7_col1\" class=\"data row7 col1\" >$153,778.59</td>\n",
              "      <td id=\"T_65bfe_row7_col2\" class=\"data row7 col2\" >7.62%</td>\n",
              "    </tr>\n",
              "    <tr>\n",
              "      <td id=\"T_65bfe_row8_col0\" class=\"data row8 col0\" >09-2018</td>\n",
              "      <td id=\"T_65bfe_row8_col1\" class=\"data row8 col1\" >$168,443.17</td>\n",
              "      <td id=\"T_65bfe_row8_col2\" class=\"data row8 col2\" >8.34%</td>\n",
              "    </tr>\n",
              "    <tr>\n",
              "      <td id=\"T_65bfe_row9_col0\" class=\"data row9 col0\" >10-2018</td>\n",
              "      <td id=\"T_65bfe_row9_col1\" class=\"data row9 col1\" >$171,495.32</td>\n",
              "      <td id=\"T_65bfe_row9_col2\" class=\"data row9 col2\" >8.49%</td>\n",
              "    </tr>\n",
              "    <tr>\n",
              "      <td id=\"T_65bfe_row10_col0\" class=\"data row10 col0\" >11-2018</td>\n",
              "      <td id=\"T_65bfe_row10_col1\" class=\"data row10 col1\" >$119,961.22</td>\n",
              "      <td id=\"T_65bfe_row10_col2\" class=\"data row10 col2\" >5.94%</td>\n",
              "    </tr>\n",
              "    <tr>\n",
              "      <td id=\"T_65bfe_row11_col0\" class=\"data row11 col0\" >12-2018</td>\n",
              "      <td id=\"T_65bfe_row11_col1\" class=\"data row11 col1\" >$163,867.26</td>\n",
              "      <td id=\"T_65bfe_row11_col2\" class=\"data row11 col2\" >8.12%</td>\n",
              "    </tr>\n",
              "  </tbody>\n",
              "</table>\n"
            ]
          },
          "metadata": {},
          "execution_count": 10
        }
      ]
    },
    {
      "cell_type": "markdown",
      "source": [
        "#### using conditional formatting with dataframes"
      ],
      "metadata": {
        "id": "xW2FN1QePC93"
      }
    },
    {
      "cell_type": "code",
      "source": [
        ""
      ],
      "metadata": {
        "id": "Qp-NkoSmeB7x"
      },
      "execution_count": 10,
      "outputs": []
    },
    {
      "cell_type": "markdown",
      "source": [
        "highlight the highest number in green and the lowest number in Trinidad (#cd4f39)"
      ],
      "metadata": {
        "id": "gDrmjpYpbc8l"
      }
    },
    {
      "cell_type": "code",
      "source": [
        "(monthly_sales\n",
        " .style\n",
        " .format(format_dict)\n",
        " .hide_index()\n",
        " .highlight_max(subset=[\"sum\", \"pct_of_total\"],color = \"lightgreen\")\n",
        " .highlight_min(subset=[\"sum\", \"pct_of_total\"],color = \"#cd4f39\"))"
      ],
      "metadata": {
        "colab": {
          "base_uri": "https://localhost:8080/",
          "height": 425
        },
        "id": "utAb15B_a-QL",
        "outputId": "a01307cd-61e5-4236-c461-36ab4e10f536"
      },
      "execution_count": 15,
      "outputs": [
        {
          "output_type": "execute_result",
          "data": {
            "text/plain": [
              "<pandas.io.formats.style.Styler at 0x7f73db55a0d0>"
            ],
            "text/html": [
              "<style type=\"text/css\">\n",
              "#T_74d13_row2_col1, #T_74d13_row2_col2 {\n",
              "  background-color: lightgreen;\n",
              "}\n",
              "#T_74d13_row10_col1, #T_74d13_row10_col2 {\n",
              "  background-color: #cd4f39;\n",
              "}\n",
              "</style>\n",
              "<table id=\"T_74d13_\" class=\"dataframe\">\n",
              "  <thead>\n",
              "    <tr>\n",
              "      <th class=\"col_heading level0 col0\" >date</th>\n",
              "      <th class=\"col_heading level0 col1\" >sum</th>\n",
              "      <th class=\"col_heading level0 col2\" >pct_of_total</th>\n",
              "    </tr>\n",
              "  </thead>\n",
              "  <tbody>\n",
              "    <tr>\n",
              "      <td id=\"T_74d13_row0_col0\" class=\"data row0 col0\" >01-2018</td>\n",
              "      <td id=\"T_74d13_row0_col1\" class=\"data row0 col1\" >$185,361.66</td>\n",
              "      <td id=\"T_74d13_row0_col2\" class=\"data row0 col2\" >9.18%</td>\n",
              "    </tr>\n",
              "    <tr>\n",
              "      <td id=\"T_74d13_row1_col0\" class=\"data row1 col0\" >02-2018</td>\n",
              "      <td id=\"T_74d13_row1_col1\" class=\"data row1 col1\" >$146,211.62</td>\n",
              "      <td id=\"T_74d13_row1_col2\" class=\"data row1 col2\" >7.24%</td>\n",
              "    </tr>\n",
              "    <tr>\n",
              "      <td id=\"T_74d13_row2_col0\" class=\"data row2 col0\" >03-2018</td>\n",
              "      <td id=\"T_74d13_row2_col1\" class=\"data row2 col1\" >$203,921.38</td>\n",
              "      <td id=\"T_74d13_row2_col2\" class=\"data row2 col2\" >10.10%</td>\n",
              "    </tr>\n",
              "    <tr>\n",
              "      <td id=\"T_74d13_row3_col0\" class=\"data row3 col0\" >04-2018</td>\n",
              "      <td id=\"T_74d13_row3_col1\" class=\"data row3 col1\" >$174,574.11</td>\n",
              "      <td id=\"T_74d13_row3_col2\" class=\"data row3 col2\" >8.65%</td>\n",
              "    </tr>\n",
              "    <tr>\n",
              "      <td id=\"T_74d13_row4_col0\" class=\"data row4 col0\" >05-2018</td>\n",
              "      <td id=\"T_74d13_row4_col1\" class=\"data row4 col1\" >$165,418.55</td>\n",
              "      <td id=\"T_74d13_row4_col2\" class=\"data row4 col2\" >8.19%</td>\n",
              "    </tr>\n",
              "    <tr>\n",
              "      <td id=\"T_74d13_row5_col0\" class=\"data row5 col0\" >06-2018</td>\n",
              "      <td id=\"T_74d13_row5_col1\" class=\"data row5 col1\" >$174,089.33</td>\n",
              "      <td id=\"T_74d13_row5_col2\" class=\"data row5 col2\" >8.62%</td>\n",
              "    </tr>\n",
              "    <tr>\n",
              "      <td id=\"T_74d13_row6_col0\" class=\"data row6 col0\" >07-2018</td>\n",
              "      <td id=\"T_74d13_row6_col1\" class=\"data row6 col1\" >$191,662.11</td>\n",
              "      <td id=\"T_74d13_row6_col2\" class=\"data row6 col2\" >9.49%</td>\n",
              "    </tr>\n",
              "    <tr>\n",
              "      <td id=\"T_74d13_row7_col0\" class=\"data row7 col0\" >08-2018</td>\n",
              "      <td id=\"T_74d13_row7_col1\" class=\"data row7 col1\" >$153,778.59</td>\n",
              "      <td id=\"T_74d13_row7_col2\" class=\"data row7 col2\" >7.62%</td>\n",
              "    </tr>\n",
              "    <tr>\n",
              "      <td id=\"T_74d13_row8_col0\" class=\"data row8 col0\" >09-2018</td>\n",
              "      <td id=\"T_74d13_row8_col1\" class=\"data row8 col1\" >$168,443.17</td>\n",
              "      <td id=\"T_74d13_row8_col2\" class=\"data row8 col2\" >8.34%</td>\n",
              "    </tr>\n",
              "    <tr>\n",
              "      <td id=\"T_74d13_row9_col0\" class=\"data row9 col0\" >10-2018</td>\n",
              "      <td id=\"T_74d13_row9_col1\" class=\"data row9 col1\" >$171,495.32</td>\n",
              "      <td id=\"T_74d13_row9_col2\" class=\"data row9 col2\" >8.49%</td>\n",
              "    </tr>\n",
              "    <tr>\n",
              "      <td id=\"T_74d13_row10_col0\" class=\"data row10 col0\" >11-2018</td>\n",
              "      <td id=\"T_74d13_row10_col1\" class=\"data row10 col1\" >$119,961.22</td>\n",
              "      <td id=\"T_74d13_row10_col2\" class=\"data row10 col2\" >5.94%</td>\n",
              "    </tr>\n",
              "    <tr>\n",
              "      <td id=\"T_74d13_row11_col0\" class=\"data row11 col0\" >12-2018</td>\n",
              "      <td id=\"T_74d13_row11_col1\" class=\"data row11 col1\" >$163,867.26</td>\n",
              "      <td id=\"T_74d13_row11_col2\" class=\"data row11 col2\" >8.12%</td>\n",
              "    </tr>\n",
              "  </tbody>\n",
              "</table>\n"
            ]
          },
          "metadata": {},
          "execution_count": 15
        }
      ]
    },
    {
      "cell_type": "markdown",
      "source": [
        "Gradient styling"
      ],
      "metadata": {
        "id": "xPVE4drfghEm"
      }
    },
    {
      "cell_type": "code",
      "source": [
        "(monthly_sales.style\n",
        " .format(format_dict)\n",
        " .background_gradient(subset=[\"sum\"], cmap=\"BuGn\"))"
      ],
      "metadata": {
        "colab": {
          "base_uri": "https://localhost:8080/",
          "height": 425
        },
        "id": "Fn5aBbhMgf73",
        "outputId": "52a27491-4cf7-4ba3-f1c4-1b1e6fed1e5c"
      },
      "execution_count": 16,
      "outputs": [
        {
          "output_type": "execute_result",
          "data": {
            "text/plain": [
              "<pandas.io.formats.style.Styler at 0x7f73db534d10>"
            ],
            "text/html": [
              "<style type=\"text/css\">\n",
              "#T_0e18f_row0_col1 {\n",
              "  background-color: #1a843f;\n",
              "  color: #f1f1f1;\n",
              "}\n",
              "#T_0e18f_row1_col1 {\n",
              "  background-color: #b2e2d7;\n",
              "  color: #000000;\n",
              "}\n",
              "#T_0e18f_row2_col1 {\n",
              "  background-color: #00441b;\n",
              "  color: #f1f1f1;\n",
              "}\n",
              "#T_0e18f_row3_col1 {\n",
              "  background-color: #3ba76c;\n",
              "  color: #f1f1f1;\n",
              "}\n",
              "#T_0e18f_row4_col1 {\n",
              "  background-color: #5abb95;\n",
              "  color: #f1f1f1;\n",
              "}\n",
              "#T_0e18f_row5_col1 {\n",
              "  background-color: #3ca86d;\n",
              "  color: #f1f1f1;\n",
              "}\n",
              "#T_0e18f_row6_col1 {\n",
              "  background-color: #067230;\n",
              "  color: #f1f1f1;\n",
              "}\n",
              "#T_0e18f_row7_col1 {\n",
              "  background-color: #8dd3c0;\n",
              "  color: #000000;\n",
              "}\n",
              "#T_0e18f_row8_col1 {\n",
              "  background-color: #4fb688;\n",
              "  color: #f1f1f1;\n",
              "}\n",
              "#T_0e18f_row9_col1 {\n",
              "  background-color: #44af79;\n",
              "  color: #f1f1f1;\n",
              "}\n",
              "#T_0e18f_row10_col1 {\n",
              "  background-color: #f7fcfd;\n",
              "  color: #000000;\n",
              "}\n",
              "#T_0e18f_row11_col1 {\n",
              "  background-color: #60bf9c;\n",
              "  color: #000000;\n",
              "}\n",
              "</style>\n",
              "<table id=\"T_0e18f_\" class=\"dataframe\">\n",
              "  <thead>\n",
              "    <tr>\n",
              "      <th class=\"blank level0\" >&nbsp;</th>\n",
              "      <th class=\"col_heading level0 col0\" >date</th>\n",
              "      <th class=\"col_heading level0 col1\" >sum</th>\n",
              "      <th class=\"col_heading level0 col2\" >pct_of_total</th>\n",
              "    </tr>\n",
              "  </thead>\n",
              "  <tbody>\n",
              "    <tr>\n",
              "      <th id=\"T_0e18f_level0_row0\" class=\"row_heading level0 row0\" >0</th>\n",
              "      <td id=\"T_0e18f_row0_col0\" class=\"data row0 col0\" >01-2018</td>\n",
              "      <td id=\"T_0e18f_row0_col1\" class=\"data row0 col1\" >$185,361.66</td>\n",
              "      <td id=\"T_0e18f_row0_col2\" class=\"data row0 col2\" >9.18%</td>\n",
              "    </tr>\n",
              "    <tr>\n",
              "      <th id=\"T_0e18f_level0_row1\" class=\"row_heading level0 row1\" >1</th>\n",
              "      <td id=\"T_0e18f_row1_col0\" class=\"data row1 col0\" >02-2018</td>\n",
              "      <td id=\"T_0e18f_row1_col1\" class=\"data row1 col1\" >$146,211.62</td>\n",
              "      <td id=\"T_0e18f_row1_col2\" class=\"data row1 col2\" >7.24%</td>\n",
              "    </tr>\n",
              "    <tr>\n",
              "      <th id=\"T_0e18f_level0_row2\" class=\"row_heading level0 row2\" >2</th>\n",
              "      <td id=\"T_0e18f_row2_col0\" class=\"data row2 col0\" >03-2018</td>\n",
              "      <td id=\"T_0e18f_row2_col1\" class=\"data row2 col1\" >$203,921.38</td>\n",
              "      <td id=\"T_0e18f_row2_col2\" class=\"data row2 col2\" >10.10%</td>\n",
              "    </tr>\n",
              "    <tr>\n",
              "      <th id=\"T_0e18f_level0_row3\" class=\"row_heading level0 row3\" >3</th>\n",
              "      <td id=\"T_0e18f_row3_col0\" class=\"data row3 col0\" >04-2018</td>\n",
              "      <td id=\"T_0e18f_row3_col1\" class=\"data row3 col1\" >$174,574.11</td>\n",
              "      <td id=\"T_0e18f_row3_col2\" class=\"data row3 col2\" >8.65%</td>\n",
              "    </tr>\n",
              "    <tr>\n",
              "      <th id=\"T_0e18f_level0_row4\" class=\"row_heading level0 row4\" >4</th>\n",
              "      <td id=\"T_0e18f_row4_col0\" class=\"data row4 col0\" >05-2018</td>\n",
              "      <td id=\"T_0e18f_row4_col1\" class=\"data row4 col1\" >$165,418.55</td>\n",
              "      <td id=\"T_0e18f_row4_col2\" class=\"data row4 col2\" >8.19%</td>\n",
              "    </tr>\n",
              "    <tr>\n",
              "      <th id=\"T_0e18f_level0_row5\" class=\"row_heading level0 row5\" >5</th>\n",
              "      <td id=\"T_0e18f_row5_col0\" class=\"data row5 col0\" >06-2018</td>\n",
              "      <td id=\"T_0e18f_row5_col1\" class=\"data row5 col1\" >$174,089.33</td>\n",
              "      <td id=\"T_0e18f_row5_col2\" class=\"data row5 col2\" >8.62%</td>\n",
              "    </tr>\n",
              "    <tr>\n",
              "      <th id=\"T_0e18f_level0_row6\" class=\"row_heading level0 row6\" >6</th>\n",
              "      <td id=\"T_0e18f_row6_col0\" class=\"data row6 col0\" >07-2018</td>\n",
              "      <td id=\"T_0e18f_row6_col1\" class=\"data row6 col1\" >$191,662.11</td>\n",
              "      <td id=\"T_0e18f_row6_col2\" class=\"data row6 col2\" >9.49%</td>\n",
              "    </tr>\n",
              "    <tr>\n",
              "      <th id=\"T_0e18f_level0_row7\" class=\"row_heading level0 row7\" >7</th>\n",
              "      <td id=\"T_0e18f_row7_col0\" class=\"data row7 col0\" >08-2018</td>\n",
              "      <td id=\"T_0e18f_row7_col1\" class=\"data row7 col1\" >$153,778.59</td>\n",
              "      <td id=\"T_0e18f_row7_col2\" class=\"data row7 col2\" >7.62%</td>\n",
              "    </tr>\n",
              "    <tr>\n",
              "      <th id=\"T_0e18f_level0_row8\" class=\"row_heading level0 row8\" >8</th>\n",
              "      <td id=\"T_0e18f_row8_col0\" class=\"data row8 col0\" >09-2018</td>\n",
              "      <td id=\"T_0e18f_row8_col1\" class=\"data row8 col1\" >$168,443.17</td>\n",
              "      <td id=\"T_0e18f_row8_col2\" class=\"data row8 col2\" >8.34%</td>\n",
              "    </tr>\n",
              "    <tr>\n",
              "      <th id=\"T_0e18f_level0_row9\" class=\"row_heading level0 row9\" >9</th>\n",
              "      <td id=\"T_0e18f_row9_col0\" class=\"data row9 col0\" >10-2018</td>\n",
              "      <td id=\"T_0e18f_row9_col1\" class=\"data row9 col1\" >$171,495.32</td>\n",
              "      <td id=\"T_0e18f_row9_col2\" class=\"data row9 col2\" >8.49%</td>\n",
              "    </tr>\n",
              "    <tr>\n",
              "      <th id=\"T_0e18f_level0_row10\" class=\"row_heading level0 row10\" >10</th>\n",
              "      <td id=\"T_0e18f_row10_col0\" class=\"data row10 col0\" >11-2018</td>\n",
              "      <td id=\"T_0e18f_row10_col1\" class=\"data row10 col1\" >$119,961.22</td>\n",
              "      <td id=\"T_0e18f_row10_col2\" class=\"data row10 col2\" >5.94%</td>\n",
              "    </tr>\n",
              "    <tr>\n",
              "      <th id=\"T_0e18f_level0_row11\" class=\"row_heading level0 row11\" >11</th>\n",
              "      <td id=\"T_0e18f_row11_col0\" class=\"data row11 col0\" >12-2018</td>\n",
              "      <td id=\"T_0e18f_row11_col1\" class=\"data row11 col1\" >$163,867.26</td>\n",
              "      <td id=\"T_0e18f_row11_col2\" class=\"data row11 col2\" >8.12%</td>\n",
              "    </tr>\n",
              "  </tbody>\n",
              "</table>\n"
            ]
          },
          "metadata": {},
          "execution_count": 16
        }
      ]
    },
    {
      "cell_type": "markdown",
      "source": [
        "https://matplotlib.org/stable/tutorials/colors/colormaps.html - cmap documentation"
      ],
      "metadata": {
        "id": "yS5pbvIXg_Cb"
      }
    },
    {
      "cell_type": "markdown",
      "source": [
        "#### Styling with bars - drawing bar charts within the columns"
      ],
      "metadata": {
        "id": "91qNcO1phiAJ"
      }
    },
    {
      "cell_type": "code",
      "source": [
        "(monthly_sales\n",
        " .style\n",
        " .format(format_dict)\n",
        " .hide_index()\n",
        " .bar(color = \"#FFA07A\", vmin = 100_000, subset=[\"sum\"], align= \"zero\")\n",
        " .bar(color = \"lightgreen\", vmin= 0, subset= [\"pct_of_total\"], align = \"zero\")\n",
        " .set_caption(\"2018 sales performance\"))"
      ],
      "metadata": {
        "colab": {
          "base_uri": "https://localhost:8080/",
          "height": 443
        },
        "id": "Dq0Rv9ZrhgRi",
        "outputId": "53ae6223-ecde-4fcb-ecdf-6932fcf1ce1b"
      },
      "execution_count": 17,
      "outputs": [
        {
          "output_type": "execute_result",
          "data": {
            "text/plain": [
              "<pandas.io.formats.style.Styler at 0x7f73db32d690>"
            ],
            "text/html": [
              "<style type=\"text/css\">\n",
              "#T_642b9_row0_col1 {\n",
              "  width: 10em;\n",
              "  height: 80%;\n",
              "  background: linear-gradient(90deg, transparent 50.0%, #FFA07A 50.0%, #FFA07A 95.4%, transparent 95.4%);\n",
              "}\n",
              "#T_642b9_row0_col2 {\n",
              "  width: 10em;\n",
              "  height: 80%;\n",
              "  background: linear-gradient(90deg, transparent 50.0%, lightgreen 50.0%, lightgreen 95.4%, transparent 95.4%);\n",
              "}\n",
              "#T_642b9_row1_col1 {\n",
              "  width: 10em;\n",
              "  height: 80%;\n",
              "  background: linear-gradient(90deg, transparent 50.0%, #FFA07A 50.0%, #FFA07A 85.8%, transparent 85.8%);\n",
              "}\n",
              "#T_642b9_row1_col2 {\n",
              "  width: 10em;\n",
              "  height: 80%;\n",
              "  background: linear-gradient(90deg, transparent 50.0%, lightgreen 50.0%, lightgreen 85.8%, transparent 85.8%);\n",
              "}\n",
              "#T_642b9_row2_col1 {\n",
              "  width: 10em;\n",
              "  height: 80%;\n",
              "  background: linear-gradient(90deg, transparent 50.0%, #FFA07A 50.0%, #FFA07A 100.0%, transparent 100.0%);\n",
              "}\n",
              "#T_642b9_row2_col2 {\n",
              "  width: 10em;\n",
              "  height: 80%;\n",
              "  background: linear-gradient(90deg, transparent 50.0%, lightgreen 50.0%, lightgreen 100.0%, transparent 100.0%);\n",
              "}\n",
              "#T_642b9_row3_col1 {\n",
              "  width: 10em;\n",
              "  height: 80%;\n",
              "  background: linear-gradient(90deg, transparent 50.0%, #FFA07A 50.0%, #FFA07A 92.8%, transparent 92.8%);\n",
              "}\n",
              "#T_642b9_row3_col2 {\n",
              "  width: 10em;\n",
              "  height: 80%;\n",
              "  background: linear-gradient(90deg, transparent 50.0%, lightgreen 50.0%, lightgreen 92.8%, transparent 92.8%);\n",
              "}\n",
              "#T_642b9_row4_col1 {\n",
              "  width: 10em;\n",
              "  height: 80%;\n",
              "  background: linear-gradient(90deg, transparent 50.0%, #FFA07A 50.0%, #FFA07A 90.6%, transparent 90.6%);\n",
              "}\n",
              "#T_642b9_row4_col2 {\n",
              "  width: 10em;\n",
              "  height: 80%;\n",
              "  background: linear-gradient(90deg, transparent 50.0%, lightgreen 50.0%, lightgreen 90.6%, transparent 90.6%);\n",
              "}\n",
              "#T_642b9_row5_col1 {\n",
              "  width: 10em;\n",
              "  height: 80%;\n",
              "  background: linear-gradient(90deg, transparent 50.0%, #FFA07A 50.0%, #FFA07A 92.7%, transparent 92.7%);\n",
              "}\n",
              "#T_642b9_row5_col2 {\n",
              "  width: 10em;\n",
              "  height: 80%;\n",
              "  background: linear-gradient(90deg, transparent 50.0%, lightgreen 50.0%, lightgreen 92.7%, transparent 92.7%);\n",
              "}\n",
              "#T_642b9_row6_col1 {\n",
              "  width: 10em;\n",
              "  height: 80%;\n",
              "  background: linear-gradient(90deg, transparent 50.0%, #FFA07A 50.0%, #FFA07A 97.0%, transparent 97.0%);\n",
              "}\n",
              "#T_642b9_row6_col2 {\n",
              "  width: 10em;\n",
              "  height: 80%;\n",
              "  background: linear-gradient(90deg, transparent 50.0%, lightgreen 50.0%, lightgreen 97.0%, transparent 97.0%);\n",
              "}\n",
              "#T_642b9_row7_col1 {\n",
              "  width: 10em;\n",
              "  height: 80%;\n",
              "  background: linear-gradient(90deg, transparent 50.0%, #FFA07A 50.0%, #FFA07A 87.7%, transparent 87.7%);\n",
              "}\n",
              "#T_642b9_row7_col2 {\n",
              "  width: 10em;\n",
              "  height: 80%;\n",
              "  background: linear-gradient(90deg, transparent 50.0%, lightgreen 50.0%, lightgreen 87.7%, transparent 87.7%);\n",
              "}\n",
              "#T_642b9_row8_col1 {\n",
              "  width: 10em;\n",
              "  height: 80%;\n",
              "  background: linear-gradient(90deg, transparent 50.0%, #FFA07A 50.0%, #FFA07A 91.3%, transparent 91.3%);\n",
              "}\n",
              "#T_642b9_row8_col2 {\n",
              "  width: 10em;\n",
              "  height: 80%;\n",
              "  background: linear-gradient(90deg, transparent 50.0%, lightgreen 50.0%, lightgreen 91.3%, transparent 91.3%);\n",
              "}\n",
              "#T_642b9_row9_col1 {\n",
              "  width: 10em;\n",
              "  height: 80%;\n",
              "  background: linear-gradient(90deg, transparent 50.0%, #FFA07A 50.0%, #FFA07A 92.0%, transparent 92.0%);\n",
              "}\n",
              "#T_642b9_row9_col2 {\n",
              "  width: 10em;\n",
              "  height: 80%;\n",
              "  background: linear-gradient(90deg, transparent 50.0%, lightgreen 50.0%, lightgreen 92.0%, transparent 92.0%);\n",
              "}\n",
              "#T_642b9_row10_col1 {\n",
              "  width: 10em;\n",
              "  height: 80%;\n",
              "  background: linear-gradient(90deg, transparent 50.0%, #FFA07A 50.0%, #FFA07A 79.4%, transparent 79.4%);\n",
              "}\n",
              "#T_642b9_row10_col2 {\n",
              "  width: 10em;\n",
              "  height: 80%;\n",
              "  background: linear-gradient(90deg, transparent 50.0%, lightgreen 50.0%, lightgreen 79.4%, transparent 79.4%);\n",
              "}\n",
              "#T_642b9_row11_col1 {\n",
              "  width: 10em;\n",
              "  height: 80%;\n",
              "  background: linear-gradient(90deg, transparent 50.0%, #FFA07A 50.0%, #FFA07A 90.2%, transparent 90.2%);\n",
              "}\n",
              "#T_642b9_row11_col2 {\n",
              "  width: 10em;\n",
              "  height: 80%;\n",
              "  background: linear-gradient(90deg, transparent 50.0%, lightgreen 50.0%, lightgreen 90.2%, transparent 90.2%);\n",
              "}\n",
              "</style>\n",
              "<table id=\"T_642b9_\" class=\"dataframe\">\n",
              "  <caption>2018 sales performance</caption>\n",
              "  <thead>\n",
              "    <tr>\n",
              "      <th class=\"col_heading level0 col0\" >date</th>\n",
              "      <th class=\"col_heading level0 col1\" >sum</th>\n",
              "      <th class=\"col_heading level0 col2\" >pct_of_total</th>\n",
              "    </tr>\n",
              "  </thead>\n",
              "  <tbody>\n",
              "    <tr>\n",
              "      <td id=\"T_642b9_row0_col0\" class=\"data row0 col0\" >01-2018</td>\n",
              "      <td id=\"T_642b9_row0_col1\" class=\"data row0 col1\" >$185,361.66</td>\n",
              "      <td id=\"T_642b9_row0_col2\" class=\"data row0 col2\" >9.18%</td>\n",
              "    </tr>\n",
              "    <tr>\n",
              "      <td id=\"T_642b9_row1_col0\" class=\"data row1 col0\" >02-2018</td>\n",
              "      <td id=\"T_642b9_row1_col1\" class=\"data row1 col1\" >$146,211.62</td>\n",
              "      <td id=\"T_642b9_row1_col2\" class=\"data row1 col2\" >7.24%</td>\n",
              "    </tr>\n",
              "    <tr>\n",
              "      <td id=\"T_642b9_row2_col0\" class=\"data row2 col0\" >03-2018</td>\n",
              "      <td id=\"T_642b9_row2_col1\" class=\"data row2 col1\" >$203,921.38</td>\n",
              "      <td id=\"T_642b9_row2_col2\" class=\"data row2 col2\" >10.10%</td>\n",
              "    </tr>\n",
              "    <tr>\n",
              "      <td id=\"T_642b9_row3_col0\" class=\"data row3 col0\" >04-2018</td>\n",
              "      <td id=\"T_642b9_row3_col1\" class=\"data row3 col1\" >$174,574.11</td>\n",
              "      <td id=\"T_642b9_row3_col2\" class=\"data row3 col2\" >8.65%</td>\n",
              "    </tr>\n",
              "    <tr>\n",
              "      <td id=\"T_642b9_row4_col0\" class=\"data row4 col0\" >05-2018</td>\n",
              "      <td id=\"T_642b9_row4_col1\" class=\"data row4 col1\" >$165,418.55</td>\n",
              "      <td id=\"T_642b9_row4_col2\" class=\"data row4 col2\" >8.19%</td>\n",
              "    </tr>\n",
              "    <tr>\n",
              "      <td id=\"T_642b9_row5_col0\" class=\"data row5 col0\" >06-2018</td>\n",
              "      <td id=\"T_642b9_row5_col1\" class=\"data row5 col1\" >$174,089.33</td>\n",
              "      <td id=\"T_642b9_row5_col2\" class=\"data row5 col2\" >8.62%</td>\n",
              "    </tr>\n",
              "    <tr>\n",
              "      <td id=\"T_642b9_row6_col0\" class=\"data row6 col0\" >07-2018</td>\n",
              "      <td id=\"T_642b9_row6_col1\" class=\"data row6 col1\" >$191,662.11</td>\n",
              "      <td id=\"T_642b9_row6_col2\" class=\"data row6 col2\" >9.49%</td>\n",
              "    </tr>\n",
              "    <tr>\n",
              "      <td id=\"T_642b9_row7_col0\" class=\"data row7 col0\" >08-2018</td>\n",
              "      <td id=\"T_642b9_row7_col1\" class=\"data row7 col1\" >$153,778.59</td>\n",
              "      <td id=\"T_642b9_row7_col2\" class=\"data row7 col2\" >7.62%</td>\n",
              "    </tr>\n",
              "    <tr>\n",
              "      <td id=\"T_642b9_row8_col0\" class=\"data row8 col0\" >09-2018</td>\n",
              "      <td id=\"T_642b9_row8_col1\" class=\"data row8 col1\" >$168,443.17</td>\n",
              "      <td id=\"T_642b9_row8_col2\" class=\"data row8 col2\" >8.34%</td>\n",
              "    </tr>\n",
              "    <tr>\n",
              "      <td id=\"T_642b9_row9_col0\" class=\"data row9 col0\" >10-2018</td>\n",
              "      <td id=\"T_642b9_row9_col1\" class=\"data row9 col1\" >$171,495.32</td>\n",
              "      <td id=\"T_642b9_row9_col2\" class=\"data row9 col2\" >8.49%</td>\n",
              "    </tr>\n",
              "    <tr>\n",
              "      <td id=\"T_642b9_row10_col0\" class=\"data row10 col0\" >11-2018</td>\n",
              "      <td id=\"T_642b9_row10_col1\" class=\"data row10 col1\" >$119,961.22</td>\n",
              "      <td id=\"T_642b9_row10_col2\" class=\"data row10 col2\" >5.94%</td>\n",
              "    </tr>\n",
              "    <tr>\n",
              "      <td id=\"T_642b9_row11_col0\" class=\"data row11 col0\" >12-2018</td>\n",
              "      <td id=\"T_642b9_row11_col1\" class=\"data row11 col1\" >$163,867.26</td>\n",
              "      <td id=\"T_642b9_row11_col2\" class=\"data row11 col2\" >8.12%</td>\n",
              "    </tr>\n",
              "  </tbody>\n",
              "</table>\n"
            ]
          },
          "metadata": {},
          "execution_count": 17
        }
      ]
    },
    {
      "cell_type": "markdown",
      "source": [
        "### Sparklines!!!!"
      ],
      "metadata": {
        "id": "7OnDMagNiNM1"
      }
    },
    {
      "cell_type": "code",
      "source": [
        "!pip install sparklines"
      ],
      "metadata": {
        "colab": {
          "base_uri": "https://localhost:8080/"
        },
        "id": "IK4nZ8hXjHDl",
        "outputId": "5e1a6e0b-ecbb-42f3-9724-da93a5cd07e5"
      },
      "execution_count": 19,
      "outputs": [
        {
          "output_type": "stream",
          "name": "stdout",
          "text": [
            "Looking in indexes: https://pypi.org/simple, https://us-python.pkg.dev/colab-wheels/public/simple/\n",
            "Collecting sparklines\n",
            "  Downloading sparklines-0.4.2.tar.gz (225 kB)\n",
            "\u001b[K     |████████████████████████████████| 225 kB 6.7 MB/s \n",
            "\u001b[?25hRequirement already satisfied: future in /usr/local/lib/python3.7/dist-packages (from sparklines) (0.16.0)\n",
            "Building wheels for collected packages: sparklines\n",
            "  Building wheel for sparklines (setup.py) ... \u001b[?25l\u001b[?25hdone\n",
            "  Created wheel for sparklines: filename=sparklines-0.4.2-py3-none-any.whl size=224607 sha256=e282f4f24bc38ab8acdf0b72b5b5422ca92147944793fcc86c143cbcb81479df\n",
            "  Stored in directory: /root/.cache/pip/wheels/12/b0/82/05c8f8b4f22cc0b9f0acd430e13223ea37557123a0d8b25623\n",
            "Successfully built sparklines\n",
            "Installing collected packages: sparklines\n",
            "Successfully installed sparklines-0.4.2\n"
          ]
        }
      ]
    },
    {
      "cell_type": "code",
      "source": [
        "import sparklines\n",
        "\n",
        "def sparkline_str(x):\n",
        "  bins = np.histogram(x)[0]\n",
        "  s1 = \"\".join(sparklines(bins))\n",
        "  return s1\n",
        "sparkline_str.__name__=\"sparkline\""
      ],
      "metadata": {
        "id": "MxIduGvqiRbt"
      },
      "execution_count": 20,
      "outputs": []
    },
    {
      "cell_type": "markdown",
      "source": [
        "Not sure what's going on here?"
      ],
      "metadata": {
        "id": "vRpo2t-OjxPS"
      }
    },
    {
      "cell_type": "code",
      "source": [
        "df.groupby(\"name\")[\"ext price\"].agg([\"mean\", sparkline_str])"
      ],
      "metadata": {
        "colab": {
          "base_uri": "https://localhost:8080/",
          "height": 380
        },
        "id": "t-unag9BjLal",
        "outputId": "f7796f0d-f9aa-4696-c1e5-4571640fc8a6"
      },
      "execution_count": 23,
      "outputs": [
        {
          "output_type": "stream",
          "name": "stderr",
          "text": [
            "/usr/local/lib/python3.7/dist-packages/pandas/core/groupby/generic.py:303: FutureWarning: Dropping invalid columns in SeriesGroupBy.agg is deprecated. In a future version, a TypeError will be raised. Before calling .agg, select only columns which should be valid for the aggregating function.\n",
            "  results[key] = self.aggregate(func)\n"
          ]
        },
        {
          "output_type": "error",
          "ename": "TypeError",
          "evalue": "ignored",
          "traceback": [
            "\u001b[0;31m---------------------------------------------------------------------------\u001b[0m",
            "\u001b[0;31mTypeError\u001b[0m                                 Traceback (most recent call last)",
            "\u001b[0;32m<ipython-input-23-f2ffde7a8f4f>\u001b[0m in \u001b[0;36m<module>\u001b[0;34m()\u001b[0m\n\u001b[0;32m----> 1\u001b[0;31m \u001b[0mdf\u001b[0m\u001b[0;34m.\u001b[0m\u001b[0mgroupby\u001b[0m\u001b[0;34m(\u001b[0m\u001b[0;34m\"name\"\u001b[0m\u001b[0;34m)\u001b[0m\u001b[0;34m[\u001b[0m\u001b[0;34m\"ext price\"\u001b[0m\u001b[0;34m]\u001b[0m\u001b[0;34m.\u001b[0m\u001b[0magg\u001b[0m\u001b[0;34m(\u001b[0m\u001b[0;34m[\u001b[0m\u001b[0;34m\"mean\"\u001b[0m\u001b[0;34m,\u001b[0m \u001b[0msparkline_str\u001b[0m\u001b[0;34m]\u001b[0m\u001b[0;34m)\u001b[0m\u001b[0;34m\u001b[0m\u001b[0;34m\u001b[0m\u001b[0m\n\u001b[0m",
            "\u001b[0;32m/usr/local/lib/python3.7/dist-packages/pandas/core/groupby/generic.py\u001b[0m in \u001b[0;36maggregate\u001b[0;34m(self, func, engine, engine_kwargs, *args, **kwargs)\u001b[0m\n\u001b[1;32m    247\u001b[0m             \u001b[0;31m# but not the class list / tuple itself.\u001b[0m\u001b[0;34m\u001b[0m\u001b[0;34m\u001b[0m\u001b[0;34m\u001b[0m\u001b[0m\n\u001b[1;32m    248\u001b[0m             \u001b[0mfunc\u001b[0m \u001b[0;34m=\u001b[0m \u001b[0mmaybe_mangle_lambdas\u001b[0m\u001b[0;34m(\u001b[0m\u001b[0mfunc\u001b[0m\u001b[0;34m)\u001b[0m\u001b[0;34m\u001b[0m\u001b[0;34m\u001b[0m\u001b[0m\n\u001b[0;32m--> 249\u001b[0;31m             \u001b[0mret\u001b[0m \u001b[0;34m=\u001b[0m \u001b[0mself\u001b[0m\u001b[0;34m.\u001b[0m\u001b[0m_aggregate_multiple_funcs\u001b[0m\u001b[0;34m(\u001b[0m\u001b[0mfunc\u001b[0m\u001b[0;34m)\u001b[0m\u001b[0;34m\u001b[0m\u001b[0;34m\u001b[0m\u001b[0m\n\u001b[0m\u001b[1;32m    250\u001b[0m             \u001b[0;32mif\u001b[0m \u001b[0mrelabeling\u001b[0m\u001b[0;34m:\u001b[0m\u001b[0;34m\u001b[0m\u001b[0;34m\u001b[0m\u001b[0m\n\u001b[1;32m    251\u001b[0m                 \u001b[0;31m# error: Incompatible types in assignment (expression has type\u001b[0m\u001b[0;34m\u001b[0m\u001b[0;34m\u001b[0m\u001b[0;34m\u001b[0m\u001b[0m\n",
            "\u001b[0;32m/usr/local/lib/python3.7/dist-packages/pandas/core/groupby/generic.py\u001b[0m in \u001b[0;36m_aggregate_multiple_funcs\u001b[0;34m(self, arg)\u001b[0m\n\u001b[1;32m    301\u001b[0m \u001b[0;34m\u001b[0m\u001b[0m\n\u001b[1;32m    302\u001b[0m             \u001b[0mkey\u001b[0m \u001b[0;34m=\u001b[0m \u001b[0mbase\u001b[0m\u001b[0;34m.\u001b[0m\u001b[0mOutputKey\u001b[0m\u001b[0;34m(\u001b[0m\u001b[0mlabel\u001b[0m\u001b[0;34m=\u001b[0m\u001b[0mname\u001b[0m\u001b[0;34m,\u001b[0m \u001b[0mposition\u001b[0m\u001b[0;34m=\u001b[0m\u001b[0midx\u001b[0m\u001b[0;34m)\u001b[0m\u001b[0;34m\u001b[0m\u001b[0;34m\u001b[0m\u001b[0m\n\u001b[0;32m--> 303\u001b[0;31m             \u001b[0mresults\u001b[0m\u001b[0;34m[\u001b[0m\u001b[0mkey\u001b[0m\u001b[0;34m]\u001b[0m \u001b[0;34m=\u001b[0m \u001b[0mself\u001b[0m\u001b[0;34m.\u001b[0m\u001b[0maggregate\u001b[0m\u001b[0;34m(\u001b[0m\u001b[0mfunc\u001b[0m\u001b[0;34m)\u001b[0m\u001b[0;34m\u001b[0m\u001b[0;34m\u001b[0m\u001b[0m\n\u001b[0m\u001b[1;32m    304\u001b[0m \u001b[0;34m\u001b[0m\u001b[0m\n\u001b[1;32m    305\u001b[0m         \u001b[0;32mif\u001b[0m \u001b[0many\u001b[0m\u001b[0;34m(\u001b[0m\u001b[0misinstance\u001b[0m\u001b[0;34m(\u001b[0m\u001b[0mx\u001b[0m\u001b[0;34m,\u001b[0m \u001b[0mDataFrame\u001b[0m\u001b[0;34m)\u001b[0m \u001b[0;32mfor\u001b[0m \u001b[0mx\u001b[0m \u001b[0;32min\u001b[0m \u001b[0mresults\u001b[0m\u001b[0;34m.\u001b[0m\u001b[0mvalues\u001b[0m\u001b[0;34m(\u001b[0m\u001b[0;34m)\u001b[0m\u001b[0;34m)\u001b[0m\u001b[0;34m:\u001b[0m\u001b[0;34m\u001b[0m\u001b[0;34m\u001b[0m\u001b[0m\n",
            "\u001b[0;32m/usr/local/lib/python3.7/dist-packages/pandas/core/groupby/generic.py\u001b[0m in \u001b[0;36maggregate\u001b[0;34m(self, func, engine, engine_kwargs, *args, **kwargs)\u001b[0m\n\u001b[1;32m    263\u001b[0m \u001b[0;34m\u001b[0m\u001b[0m\n\u001b[1;32m    264\u001b[0m             \u001b[0;32mtry\u001b[0m\u001b[0;34m:\u001b[0m\u001b[0;34m\u001b[0m\u001b[0;34m\u001b[0m\u001b[0m\n\u001b[0;32m--> 265\u001b[0;31m                 \u001b[0;32mreturn\u001b[0m \u001b[0mself\u001b[0m\u001b[0;34m.\u001b[0m\u001b[0m_python_agg_general\u001b[0m\u001b[0;34m(\u001b[0m\u001b[0mfunc\u001b[0m\u001b[0;34m,\u001b[0m \u001b[0;34m*\u001b[0m\u001b[0margs\u001b[0m\u001b[0;34m,\u001b[0m \u001b[0;34m**\u001b[0m\u001b[0mkwargs\u001b[0m\u001b[0;34m)\u001b[0m\u001b[0;34m\u001b[0m\u001b[0;34m\u001b[0m\u001b[0m\n\u001b[0m\u001b[1;32m    266\u001b[0m             \u001b[0;32mexcept\u001b[0m \u001b[0mKeyError\u001b[0m\u001b[0;34m:\u001b[0m\u001b[0;34m\u001b[0m\u001b[0;34m\u001b[0m\u001b[0m\n\u001b[1;32m    267\u001b[0m                 \u001b[0;31m# TODO: KeyError is raised in _python_agg_general,\u001b[0m\u001b[0;34m\u001b[0m\u001b[0;34m\u001b[0m\u001b[0;34m\u001b[0m\u001b[0m\n",
            "\u001b[0;32m/usr/local/lib/python3.7/dist-packages/pandas/core/groupby/groupby.py\u001b[0m in \u001b[0;36m_python_agg_general\u001b[0;34m(self, func, *args, **kwargs)\u001b[0m\n\u001b[1;32m   1346\u001b[0m \u001b[0;34m\u001b[0m\u001b[0m\n\u001b[1;32m   1347\u001b[0m         \u001b[0;32mif\u001b[0m \u001b[0;32mnot\u001b[0m \u001b[0moutput\u001b[0m\u001b[0;34m:\u001b[0m\u001b[0;34m\u001b[0m\u001b[0;34m\u001b[0m\u001b[0m\n\u001b[0;32m-> 1348\u001b[0;31m             \u001b[0;32mreturn\u001b[0m \u001b[0mself\u001b[0m\u001b[0;34m.\u001b[0m\u001b[0m_python_apply_general\u001b[0m\u001b[0;34m(\u001b[0m\u001b[0mf\u001b[0m\u001b[0;34m,\u001b[0m \u001b[0mself\u001b[0m\u001b[0;34m.\u001b[0m\u001b[0m_selected_obj\u001b[0m\u001b[0;34m)\u001b[0m\u001b[0;34m\u001b[0m\u001b[0;34m\u001b[0m\u001b[0m\n\u001b[0m\u001b[1;32m   1349\u001b[0m \u001b[0;34m\u001b[0m\u001b[0m\n\u001b[1;32m   1350\u001b[0m         \u001b[0;32mreturn\u001b[0m \u001b[0mself\u001b[0m\u001b[0;34m.\u001b[0m\u001b[0m_wrap_aggregated_output\u001b[0m\u001b[0;34m(\u001b[0m\u001b[0moutput\u001b[0m\u001b[0;34m)\u001b[0m\u001b[0;34m\u001b[0m\u001b[0;34m\u001b[0m\u001b[0m\n",
            "\u001b[0;32m/usr/local/lib/python3.7/dist-packages/pandas/core/groupby/groupby.py\u001b[0m in \u001b[0;36m_python_apply_general\u001b[0;34m(self, f, data)\u001b[0m\n\u001b[1;32m   1307\u001b[0m             \u001b[0mdata\u001b[0m \u001b[0mafter\u001b[0m \u001b[0mapplying\u001b[0m \u001b[0mf\u001b[0m\u001b[0;34m\u001b[0m\u001b[0;34m\u001b[0m\u001b[0m\n\u001b[1;32m   1308\u001b[0m         \"\"\"\n\u001b[0;32m-> 1309\u001b[0;31m         \u001b[0mkeys\u001b[0m\u001b[0;34m,\u001b[0m \u001b[0mvalues\u001b[0m\u001b[0;34m,\u001b[0m \u001b[0mmutated\u001b[0m \u001b[0;34m=\u001b[0m \u001b[0mself\u001b[0m\u001b[0;34m.\u001b[0m\u001b[0mgrouper\u001b[0m\u001b[0;34m.\u001b[0m\u001b[0mapply\u001b[0m\u001b[0;34m(\u001b[0m\u001b[0mf\u001b[0m\u001b[0;34m,\u001b[0m \u001b[0mdata\u001b[0m\u001b[0;34m,\u001b[0m \u001b[0mself\u001b[0m\u001b[0;34m.\u001b[0m\u001b[0maxis\u001b[0m\u001b[0;34m)\u001b[0m\u001b[0;34m\u001b[0m\u001b[0;34m\u001b[0m\u001b[0m\n\u001b[0m\u001b[1;32m   1310\u001b[0m \u001b[0;34m\u001b[0m\u001b[0m\n\u001b[1;32m   1311\u001b[0m         return self._wrap_applied_output(\n",
            "\u001b[0;32m/usr/local/lib/python3.7/dist-packages/pandas/core/groupby/ops.py\u001b[0m in \u001b[0;36mapply\u001b[0;34m(self, f, data, axis)\u001b[0m\n\u001b[1;32m    850\u001b[0m             \u001b[0;31m# group might be modified\u001b[0m\u001b[0;34m\u001b[0m\u001b[0;34m\u001b[0m\u001b[0;34m\u001b[0m\u001b[0m\n\u001b[1;32m    851\u001b[0m             \u001b[0mgroup_axes\u001b[0m \u001b[0;34m=\u001b[0m \u001b[0mgroup\u001b[0m\u001b[0;34m.\u001b[0m\u001b[0maxes\u001b[0m\u001b[0;34m\u001b[0m\u001b[0;34m\u001b[0m\u001b[0m\n\u001b[0;32m--> 852\u001b[0;31m             \u001b[0mres\u001b[0m \u001b[0;34m=\u001b[0m \u001b[0mf\u001b[0m\u001b[0;34m(\u001b[0m\u001b[0mgroup\u001b[0m\u001b[0;34m)\u001b[0m\u001b[0;34m\u001b[0m\u001b[0;34m\u001b[0m\u001b[0m\n\u001b[0m\u001b[1;32m    853\u001b[0m             \u001b[0;32mif\u001b[0m \u001b[0;32mnot\u001b[0m \u001b[0m_is_indexed_like\u001b[0m\u001b[0;34m(\u001b[0m\u001b[0mres\u001b[0m\u001b[0;34m,\u001b[0m \u001b[0mgroup_axes\u001b[0m\u001b[0;34m,\u001b[0m \u001b[0maxis\u001b[0m\u001b[0;34m)\u001b[0m\u001b[0;34m:\u001b[0m\u001b[0;34m\u001b[0m\u001b[0;34m\u001b[0m\u001b[0m\n\u001b[1;32m    854\u001b[0m                 \u001b[0mmutated\u001b[0m \u001b[0;34m=\u001b[0m \u001b[0;32mTrue\u001b[0m\u001b[0;34m\u001b[0m\u001b[0;34m\u001b[0m\u001b[0m\n",
            "\u001b[0;32m/usr/local/lib/python3.7/dist-packages/pandas/core/groupby/groupby.py\u001b[0m in \u001b[0;36m<lambda>\u001b[0;34m(x)\u001b[0m\n\u001b[1;32m   1316\u001b[0m     \u001b[0;32mdef\u001b[0m \u001b[0m_python_agg_general\u001b[0m\u001b[0;34m(\u001b[0m\u001b[0mself\u001b[0m\u001b[0;34m,\u001b[0m \u001b[0mfunc\u001b[0m\u001b[0;34m,\u001b[0m \u001b[0;34m*\u001b[0m\u001b[0margs\u001b[0m\u001b[0;34m,\u001b[0m \u001b[0;34m**\u001b[0m\u001b[0mkwargs\u001b[0m\u001b[0;34m)\u001b[0m\u001b[0;34m:\u001b[0m\u001b[0;34m\u001b[0m\u001b[0;34m\u001b[0m\u001b[0m\n\u001b[1;32m   1317\u001b[0m         \u001b[0mfunc\u001b[0m \u001b[0;34m=\u001b[0m \u001b[0mcom\u001b[0m\u001b[0;34m.\u001b[0m\u001b[0mis_builtin_func\u001b[0m\u001b[0;34m(\u001b[0m\u001b[0mfunc\u001b[0m\u001b[0;34m)\u001b[0m\u001b[0;34m\u001b[0m\u001b[0;34m\u001b[0m\u001b[0m\n\u001b[0;32m-> 1318\u001b[0;31m         \u001b[0mf\u001b[0m \u001b[0;34m=\u001b[0m \u001b[0;32mlambda\u001b[0m \u001b[0mx\u001b[0m\u001b[0;34m:\u001b[0m \u001b[0mfunc\u001b[0m\u001b[0;34m(\u001b[0m\u001b[0mx\u001b[0m\u001b[0;34m,\u001b[0m \u001b[0;34m*\u001b[0m\u001b[0margs\u001b[0m\u001b[0;34m,\u001b[0m \u001b[0;34m**\u001b[0m\u001b[0mkwargs\u001b[0m\u001b[0;34m)\u001b[0m\u001b[0;34m\u001b[0m\u001b[0;34m\u001b[0m\u001b[0m\n\u001b[0m\u001b[1;32m   1319\u001b[0m \u001b[0;34m\u001b[0m\u001b[0m\n\u001b[1;32m   1320\u001b[0m         \u001b[0;31m# iterate through \"columns\" ex exclusions to populate output dict\u001b[0m\u001b[0;34m\u001b[0m\u001b[0;34m\u001b[0m\u001b[0;34m\u001b[0m\u001b[0m\n",
            "\u001b[0;32m<ipython-input-20-7a9b5188948a>\u001b[0m in \u001b[0;36msparkline_str\u001b[0;34m(x)\u001b[0m\n\u001b[1;32m      3\u001b[0m \u001b[0;32mdef\u001b[0m \u001b[0msparkline_str\u001b[0m\u001b[0;34m(\u001b[0m\u001b[0mx\u001b[0m\u001b[0;34m)\u001b[0m\u001b[0;34m:\u001b[0m\u001b[0;34m\u001b[0m\u001b[0;34m\u001b[0m\u001b[0m\n\u001b[1;32m      4\u001b[0m   \u001b[0mbins\u001b[0m \u001b[0;34m=\u001b[0m \u001b[0mnp\u001b[0m\u001b[0;34m.\u001b[0m\u001b[0mhistogram\u001b[0m\u001b[0;34m(\u001b[0m\u001b[0mx\u001b[0m\u001b[0;34m)\u001b[0m\u001b[0;34m[\u001b[0m\u001b[0;36m0\u001b[0m\u001b[0;34m]\u001b[0m\u001b[0;34m\u001b[0m\u001b[0;34m\u001b[0m\u001b[0m\n\u001b[0;32m----> 5\u001b[0;31m   \u001b[0ms1\u001b[0m \u001b[0;34m=\u001b[0m \u001b[0;34m\"\"\u001b[0m\u001b[0;34m.\u001b[0m\u001b[0mjoin\u001b[0m\u001b[0;34m(\u001b[0m\u001b[0msparklines\u001b[0m\u001b[0;34m(\u001b[0m\u001b[0mbins\u001b[0m\u001b[0;34m)\u001b[0m\u001b[0;34m)\u001b[0m\u001b[0;34m\u001b[0m\u001b[0;34m\u001b[0m\u001b[0m\n\u001b[0m\u001b[1;32m      6\u001b[0m   \u001b[0;32mreturn\u001b[0m \u001b[0ms1\u001b[0m\u001b[0;34m\u001b[0m\u001b[0;34m\u001b[0m\u001b[0m\n\u001b[1;32m      7\u001b[0m \u001b[0msparkline_str\u001b[0m\u001b[0;34m.\u001b[0m\u001b[0m__name__\u001b[0m\u001b[0;34m=\u001b[0m\u001b[0;34m\"sparkline\"\u001b[0m\u001b[0;34m\u001b[0m\u001b[0;34m\u001b[0m\u001b[0m\n",
            "\u001b[0;31mTypeError\u001b[0m: 'module' object is not callable"
          ]
        }
      ]
    }
  ]
}